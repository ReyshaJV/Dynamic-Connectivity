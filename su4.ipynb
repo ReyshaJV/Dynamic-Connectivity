{
  "nbformat": 4,
  "nbformat_minor": 0,
  "metadata": {
    "colab": {
      "provenance": []
    },
    "kernelspec": {
      "name": "python3",
      "display_name": "Python 3"
    },
    "language_info": {
      "name": "python"
    }
  },
  "cells": [
    {
      "cell_type": "code",
      "execution_count": null,
      "metadata": {
        "colab": {
          "base_uri": "https://localhost:8080/"
        },
        "id": "sRnEKPXhlLjU",
        "outputId": "27697ee1-f85e-4e22-ea43-2fd71a30d8f4"
      },
      "outputs": [
        {
          "output_type": "stream",
          "name": "stdout",
          "text": [
            "Collecting pytket\n",
            "  Downloading pytket-1.21.0-cp310-cp310-manylinux_2_17_x86_64.manylinux2014_x86_64.whl (7.6 MB)\n",
            "\u001b[2K     \u001b[90m━━━━━━━━━━━━━━━━━━━━━━━━━━━━━━━━━━━━━━━━\u001b[0m \u001b[32m7.6/7.6 MB\u001b[0m \u001b[31m50.8 MB/s\u001b[0m eta \u001b[36m0:00:00\u001b[0m\n",
            "\u001b[?25hRequirement already satisfied: sympy~=1.6 in /usr/local/lib/python3.10/dist-packages (from pytket) (1.12)\n",
            "Requirement already satisfied: numpy<2.0,>=1.21.4 in /usr/local/lib/python3.10/dist-packages (from pytket) (1.23.5)\n",
            "Collecting lark-parser~=0.7 (from pytket)\n",
            "  Downloading lark_parser-0.12.0-py2.py3-none-any.whl (103 kB)\n",
            "\u001b[2K     \u001b[90m━━━━━━━━━━━━━━━━━━━━━━━━━━━━━━━━━━━━━━━━\u001b[0m \u001b[32m103.5/103.5 kB\u001b[0m \u001b[31m11.5 MB/s\u001b[0m eta \u001b[36m0:00:00\u001b[0m\n",
            "\u001b[?25hRequirement already satisfied: scipy<2.0,>=1.7.2 in /usr/local/lib/python3.10/dist-packages (from pytket) (1.11.3)\n",
            "Requirement already satisfied: networkx>=2.8.8 in /usr/local/lib/python3.10/dist-packages (from pytket) (3.2)\n",
            "Requirement already satisfied: graphviz~=0.14 in /usr/local/lib/python3.10/dist-packages (from pytket) (0.20.1)\n",
            "Requirement already satisfied: jinja2~=3.0 in /usr/local/lib/python3.10/dist-packages (from pytket) (3.1.2)\n",
            "Collecting types-pkg-resources (from pytket)\n",
            "  Downloading types_pkg_resources-0.1.3-py2.py3-none-any.whl (4.8 kB)\n",
            "Requirement already satisfied: typing-extensions~=4.2 in /usr/local/lib/python3.10/dist-packages (from pytket) (4.5.0)\n",
            "Collecting qwasm~=1.0 (from pytket)\n",
            "  Downloading qwasm-1.0.1-py3-none-any.whl (15 kB)\n",
            "Requirement already satisfied: MarkupSafe>=2.0 in /usr/local/lib/python3.10/dist-packages (from jinja2~=3.0->pytket) (2.1.3)\n",
            "Requirement already satisfied: setuptools in /usr/local/lib/python3.10/dist-packages (from qwasm~=1.0->pytket) (67.7.2)\n",
            "Requirement already satisfied: mpmath>=0.19 in /usr/local/lib/python3.10/dist-packages (from sympy~=1.6->pytket) (1.3.0)\n",
            "Installing collected packages: types-pkg-resources, lark-parser, qwasm, pytket\n",
            "Successfully installed lark-parser-0.12.0 pytket-1.21.0 qwasm-1.0.1 types-pkg-resources-0.1.3\n",
            "Collecting qiskit\n",
            "  Downloading qiskit-0.45.0-py3-none-any.whl (9.6 kB)\n",
            "Collecting qiskit-terra==0.45.0 (from qiskit)\n",
            "  Downloading qiskit_terra-0.45.0-cp38-abi3-manylinux_2_17_x86_64.manylinux2014_x86_64.whl (6.3 MB)\n",
            "\u001b[2K     \u001b[90m━━━━━━━━━━━━━━━━━━━━━━━━━━━━━━━━━━━━━━━━\u001b[0m \u001b[32m6.3/6.3 MB\u001b[0m \u001b[31m49.8 MB/s\u001b[0m eta \u001b[36m0:00:00\u001b[0m\n",
            "\u001b[?25hCollecting rustworkx>=0.13.0 (from qiskit-terra==0.45.0->qiskit)\n",
            "  Downloading rustworkx-0.13.2-cp310-cp310-manylinux_2_17_x86_64.manylinux2014_x86_64.whl (2.0 MB)\n",
            "\u001b[2K     \u001b[90m━━━━━━━━━━━━━━━━━━━━━━━━━━━━━━━━━━━━━━━━\u001b[0m \u001b[32m2.0/2.0 MB\u001b[0m \u001b[31m84.7 MB/s\u001b[0m eta \u001b[36m0:00:00\u001b[0m\n",
            "\u001b[?25hRequirement already satisfied: numpy<2,>=1.17 in /usr/local/lib/python3.10/dist-packages (from qiskit-terra==0.45.0->qiskit) (1.23.5)\n",
            "Collecting ply>=3.10 (from qiskit-terra==0.45.0->qiskit)\n",
            "  Downloading ply-3.11-py2.py3-none-any.whl (49 kB)\n",
            "\u001b[2K     \u001b[90m━━━━━━━━━━━━━━━━━━━━━━━━━━━━━━━━━━━━━━━━\u001b[0m \u001b[32m49.6/49.6 kB\u001b[0m \u001b[31m5.5 MB/s\u001b[0m eta \u001b[36m0:00:00\u001b[0m\n",
            "\u001b[?25hRequirement already satisfied: psutil>=5 in /usr/local/lib/python3.10/dist-packages (from qiskit-terra==0.45.0->qiskit) (5.9.5)\n",
            "Requirement already satisfied: scipy>=1.5 in /usr/local/lib/python3.10/dist-packages (from qiskit-terra==0.45.0->qiskit) (1.11.3)\n",
            "Requirement already satisfied: sympy>=1.3 in /usr/local/lib/python3.10/dist-packages (from qiskit-terra==0.45.0->qiskit) (1.12)\n",
            "Collecting dill>=0.3 (from qiskit-terra==0.45.0->qiskit)\n",
            "  Downloading dill-0.3.7-py3-none-any.whl (115 kB)\n",
            "\u001b[2K     \u001b[90m━━━━━━━━━━━━━━━━━━━━━━━━━━━━━━━━━━━━━━━━\u001b[0m \u001b[32m115.3/115.3 kB\u001b[0m \u001b[31m11.6 MB/s\u001b[0m eta \u001b[36m0:00:00\u001b[0m\n",
            "\u001b[?25hRequirement already satisfied: python-dateutil>=2.8.0 in /usr/local/lib/python3.10/dist-packages (from qiskit-terra==0.45.0->qiskit) (2.8.2)\n",
            "Collecting stevedore>=3.0.0 (from qiskit-terra==0.45.0->qiskit)\n",
            "  Downloading stevedore-5.1.0-py3-none-any.whl (49 kB)\n",
            "\u001b[2K     \u001b[90m━━━━━━━━━━━━━━━━━━━━━━━━━━━━━━━━━━━━━━━━\u001b[0m \u001b[32m49.6/49.6 kB\u001b[0m \u001b[31m6.2 MB/s\u001b[0m eta \u001b[36m0:00:00\u001b[0m\n",
            "\u001b[?25hCollecting symengine<0.10,>=0.9 (from qiskit-terra==0.45.0->qiskit)\n",
            "  Downloading symengine-0.9.2-cp310-cp310-manylinux2010_x86_64.whl (37.5 MB)\n",
            "\u001b[2K     \u001b[90m━━━━━━━━━━━━━━━━━━━━━━━━━━━━━━━━━━━━━━━━\u001b[0m \u001b[32m37.5/37.5 MB\u001b[0m \u001b[31m17.4 MB/s\u001b[0m eta \u001b[36m0:00:00\u001b[0m\n",
            "\u001b[?25hRequirement already satisfied: typing-extensions in /usr/local/lib/python3.10/dist-packages (from qiskit-terra==0.45.0->qiskit) (4.5.0)\n",
            "Requirement already satisfied: six>=1.5 in /usr/local/lib/python3.10/dist-packages (from python-dateutil>=2.8.0->qiskit-terra==0.45.0->qiskit) (1.16.0)\n",
            "Collecting pbr!=2.1.0,>=2.0.0 (from stevedore>=3.0.0->qiskit-terra==0.45.0->qiskit)\n",
            "  Downloading pbr-5.11.1-py2.py3-none-any.whl (112 kB)\n",
            "\u001b[2K     \u001b[90m━━━━━━━━━━━━━━━━━━━━━━━━━━━━━━━━━━━━━━━━\u001b[0m \u001b[32m112.7/112.7 kB\u001b[0m \u001b[31m12.6 MB/s\u001b[0m eta \u001b[36m0:00:00\u001b[0m\n",
            "\u001b[?25hRequirement already satisfied: mpmath>=0.19 in /usr/local/lib/python3.10/dist-packages (from sympy>=1.3->qiskit-terra==0.45.0->qiskit) (1.3.0)\n",
            "Installing collected packages: ply, symengine, rustworkx, pbr, dill, stevedore, qiskit-terra, qiskit\n",
            "Successfully installed dill-0.3.7 pbr-5.11.1 ply-3.11 qiskit-0.45.0 qiskit-terra-0.45.0 rustworkx-0.13.2 stevedore-5.1.0 symengine-0.9.2\n",
            "Collecting pytket-qiskit\n",
            "  Downloading pytket_qiskit-0.45.0-py3-none-any.whl (50 kB)\n",
            "\u001b[2K     \u001b[90m━━━━━━━━━━━━━━━━━━━━━━━━━━━━━━━━━━━━━━━━\u001b[0m \u001b[32m50.6/50.6 kB\u001b[0m \u001b[31m1.5 MB/s\u001b[0m eta \u001b[36m0:00:00\u001b[0m\n",
            "\u001b[?25hRequirement already satisfied: pytket~=1.21 in /usr/local/lib/python3.10/dist-packages (from pytket-qiskit) (1.21.0)\n",
            "Collecting qiskit~=0.44.0 (from pytket-qiskit)\n",
            "  Downloading qiskit-0.44.3-py3-none-any.whl (8.2 kB)\n",
            "Collecting qiskit-ibm-runtime~=0.12.0 (from pytket-qiskit)\n",
            "  Downloading qiskit_ibm_runtime-0.12.2-py3-none-any.whl (130 kB)\n",
            "\u001b[2K     \u001b[90m━━━━━━━━━━━━━━━━━━━━━━━━━━━━━━━━━━━━━━━━\u001b[0m \u001b[32m130.9/130.9 kB\u001b[0m \u001b[31m6.8 MB/s\u001b[0m eta \u001b[36m0:00:00\u001b[0m\n",
            "\u001b[?25hCollecting qiskit-aer~=0.12.2 (from pytket-qiskit)\n",
            "  Downloading qiskit_aer-0.12.2-cp310-cp310-manylinux_2_17_x86_64.manylinux2014_x86_64.whl (12.8 MB)\n",
            "\u001b[2K     \u001b[90m━━━━━━━━━━━━━━━━━━━━━━━━━━━━━━━━━━━━━━━━\u001b[0m \u001b[32m12.8/12.8 MB\u001b[0m \u001b[31m80.1 MB/s\u001b[0m eta \u001b[36m0:00:00\u001b[0m\n",
            "\u001b[?25hCollecting qiskit-ibm-provider~=0.7.0 (from pytket-qiskit)\n",
            "  Downloading qiskit_ibm_provider-0.7.2-py3-none-any.whl (243 kB)\n",
            "\u001b[2K     \u001b[90m━━━━━━━━━━━━━━━━━━━━━━━━━━━━━━━━━━━━━━━━\u001b[0m \u001b[32m243.3/243.3 kB\u001b[0m \u001b[31m26.0 MB/s\u001b[0m eta \u001b[36m0:00:00\u001b[0m\n",
            "\u001b[?25hRequirement already satisfied: numpy in /usr/local/lib/python3.10/dist-packages (from pytket-qiskit) (1.23.5)\n",
            "Requirement already satisfied: sympy~=1.6 in /usr/local/lib/python3.10/dist-packages (from pytket~=1.21->pytket-qiskit) (1.12)\n",
            "Requirement already satisfied: lark-parser~=0.7 in /usr/local/lib/python3.10/dist-packages (from pytket~=1.21->pytket-qiskit) (0.12.0)\n",
            "Requirement already satisfied: scipy<2.0,>=1.7.2 in /usr/local/lib/python3.10/dist-packages (from pytket~=1.21->pytket-qiskit) (1.11.3)\n",
            "Requirement already satisfied: networkx>=2.8.8 in /usr/local/lib/python3.10/dist-packages (from pytket~=1.21->pytket-qiskit) (3.2)\n",
            "Requirement already satisfied: graphviz~=0.14 in /usr/local/lib/python3.10/dist-packages (from pytket~=1.21->pytket-qiskit) (0.20.1)\n",
            "Requirement already satisfied: jinja2~=3.0 in /usr/local/lib/python3.10/dist-packages (from pytket~=1.21->pytket-qiskit) (3.1.2)\n",
            "Requirement already satisfied: types-pkg-resources in /usr/local/lib/python3.10/dist-packages (from pytket~=1.21->pytket-qiskit) (0.1.3)\n",
            "Requirement already satisfied: typing-extensions~=4.2 in /usr/local/lib/python3.10/dist-packages (from pytket~=1.21->pytket-qiskit) (4.5.0)\n",
            "Requirement already satisfied: qwasm~=1.0 in /usr/local/lib/python3.10/dist-packages (from pytket~=1.21->pytket-qiskit) (1.0.1)\n",
            "Collecting qiskit-terra==0.25.3 (from qiskit~=0.44.0->pytket-qiskit)\n",
            "  Downloading qiskit_terra-0.25.3-cp38-abi3-manylinux_2_17_x86_64.manylinux2014_x86_64.whl (6.2 MB)\n",
            "\u001b[2K     \u001b[90m━━━━━━━━━━━━━━━━━━━━━━━━━━━━━━━━━━━━━━━━\u001b[0m \u001b[32m6.2/6.2 MB\u001b[0m \u001b[31m93.8 MB/s\u001b[0m eta \u001b[36m0:00:00\u001b[0m\n",
            "\u001b[?25hRequirement already satisfied: rustworkx>=0.13.0 in /usr/local/lib/python3.10/dist-packages (from qiskit-terra==0.25.3->qiskit~=0.44.0->pytket-qiskit) (0.13.2)\n",
            "Requirement already satisfied: ply>=3.10 in /usr/local/lib/python3.10/dist-packages (from qiskit-terra==0.25.3->qiskit~=0.44.0->pytket-qiskit) (3.11)\n",
            "Requirement already satisfied: psutil>=5 in /usr/local/lib/python3.10/dist-packages (from qiskit-terra==0.25.3->qiskit~=0.44.0->pytket-qiskit) (5.9.5)\n",
            "Requirement already satisfied: dill>=0.3 in /usr/local/lib/python3.10/dist-packages (from qiskit-terra==0.25.3->qiskit~=0.44.0->pytket-qiskit) (0.3.7)\n",
            "Requirement already satisfied: python-dateutil>=2.8.0 in /usr/local/lib/python3.10/dist-packages (from qiskit-terra==0.25.3->qiskit~=0.44.0->pytket-qiskit) (2.8.2)\n",
            "Requirement already satisfied: stevedore>=3.0.0 in /usr/local/lib/python3.10/dist-packages (from qiskit-terra==0.25.3->qiskit~=0.44.0->pytket-qiskit) (5.1.0)\n",
            "Requirement already satisfied: symengine<0.10,>=0.9 in /usr/local/lib/python3.10/dist-packages (from qiskit-terra==0.25.3->qiskit~=0.44.0->pytket-qiskit) (0.9.2)\n",
            "Requirement already satisfied: requests>=2.19 in /usr/local/lib/python3.10/dist-packages (from qiskit-ibm-provider~=0.7.0->pytket-qiskit) (2.31.0)\n",
            "Collecting requests-ntlm>=1.1.0 (from qiskit-ibm-provider~=0.7.0->pytket-qiskit)\n",
            "  Downloading requests_ntlm-1.2.0-py3-none-any.whl (6.0 kB)\n",
            "Requirement already satisfied: urllib3>=1.21.1 in /usr/local/lib/python3.10/dist-packages (from qiskit-ibm-provider~=0.7.0->pytket-qiskit) (2.0.7)\n",
            "Requirement already satisfied: websocket-client>=1.5.1 in /usr/local/lib/python3.10/dist-packages (from qiskit-ibm-provider~=0.7.0->pytket-qiskit) (1.6.4)\n",
            "Collecting websockets>=10.0 (from qiskit-ibm-provider~=0.7.0->pytket-qiskit)\n",
            "  Downloading websockets-12.0-cp310-cp310-manylinux_2_5_x86_64.manylinux1_x86_64.manylinux_2_17_x86_64.manylinux2014_x86_64.whl (130 kB)\n",
            "\u001b[2K     \u001b[90m━━━━━━━━━━━━━━━━━━━━━━━━━━━━━━━━━━━━━━━━\u001b[0m \u001b[32m130.2/130.2 kB\u001b[0m \u001b[31m14.7 MB/s\u001b[0m eta \u001b[36m0:00:00\u001b[0m\n",
            "\u001b[?25hCollecting ibm-platform-services>=0.22.6 (from qiskit-ibm-runtime~=0.12.0->pytket-qiskit)\n",
            "  Downloading ibm-platform-services-0.46.0.tar.gz (300 kB)\n",
            "\u001b[2K     \u001b[90m━━━━━━━━━━━━━━━━━━━━━━━━━━━━━━━━━━━━━━━━\u001b[0m \u001b[32m300.4/300.4 kB\u001b[0m \u001b[31m27.1 MB/s\u001b[0m eta \u001b[36m0:00:00\u001b[0m\n",
            "\u001b[?25h  Installing build dependencies ... \u001b[?25l\u001b[?25hdone\n",
            "  Getting requirements to build wheel ... \u001b[?25l\u001b[?25hdone\n",
            "  Preparing metadata (pyproject.toml) ... \u001b[?25l\u001b[?25hdone\n",
            "Collecting ibm-cloud-sdk-core<4.0.0,>=3.17.0 (from ibm-platform-services>=0.22.6->qiskit-ibm-runtime~=0.12.0->pytket-qiskit)\n",
            "  Downloading ibm-cloud-sdk-core-3.17.2.tar.gz (55 kB)\n",
            "\u001b[2K     \u001b[90m━━━━━━━━━━━━━━━━━━━━━━━━━━━━━━━━━━━━━━━━\u001b[0m \u001b[32m55.8/55.8 kB\u001b[0m \u001b[31m6.4 MB/s\u001b[0m eta \u001b[36m0:00:00\u001b[0m\n",
            "\u001b[?25h  Installing build dependencies ... \u001b[?25l\u001b[?25hdone\n",
            "  Getting requirements to build wheel ... \u001b[?25l\u001b[?25hdone\n",
            "  Preparing metadata (pyproject.toml) ... \u001b[?25l\u001b[?25hdone\n",
            "Requirement already satisfied: MarkupSafe>=2.0 in /usr/local/lib/python3.10/dist-packages (from jinja2~=3.0->pytket~=1.21->pytket-qiskit) (2.1.3)\n",
            "Requirement already satisfied: six>=1.5 in /usr/local/lib/python3.10/dist-packages (from python-dateutil>=2.8.0->qiskit-terra==0.25.3->qiskit~=0.44.0->pytket-qiskit) (1.16.0)\n",
            "Requirement already satisfied: setuptools in /usr/local/lib/python3.10/dist-packages (from qwasm~=1.0->pytket~=1.21->pytket-qiskit) (67.7.2)\n",
            "Requirement already satisfied: charset-normalizer<4,>=2 in /usr/local/lib/python3.10/dist-packages (from requests>=2.19->qiskit-ibm-provider~=0.7.0->pytket-qiskit) (3.3.1)\n",
            "Requirement already satisfied: idna<4,>=2.5 in /usr/local/lib/python3.10/dist-packages (from requests>=2.19->qiskit-ibm-provider~=0.7.0->pytket-qiskit) (3.4)\n",
            "Requirement already satisfied: certifi>=2017.4.17 in /usr/local/lib/python3.10/dist-packages (from requests>=2.19->qiskit-ibm-provider~=0.7.0->pytket-qiskit) (2023.7.22)\n",
            "Requirement already satisfied: cryptography>=1.3 in /usr/local/lib/python3.10/dist-packages (from requests-ntlm>=1.1.0->qiskit-ibm-provider~=0.7.0->pytket-qiskit) (41.0.5)\n",
            "Collecting pyspnego>=0.1.6 (from requests-ntlm>=1.1.0->qiskit-ibm-provider~=0.7.0->pytket-qiskit)\n",
            "  Downloading pyspnego-0.10.2-py3-none-any.whl (129 kB)\n",
            "\u001b[2K     \u001b[90m━━━━━━━━━━━━━━━━━━━━━━━━━━━━━━━━━━━━━━━━\u001b[0m \u001b[32m129.9/129.9 kB\u001b[0m \u001b[31m14.5 MB/s\u001b[0m eta \u001b[36m0:00:00\u001b[0m\n",
            "\u001b[?25hRequirement already satisfied: mpmath>=0.19 in /usr/local/lib/python3.10/dist-packages (from sympy~=1.6->pytket~=1.21->pytket-qiskit) (1.3.0)\n",
            "Requirement already satisfied: cffi>=1.12 in /usr/local/lib/python3.10/dist-packages (from cryptography>=1.3->requests-ntlm>=1.1.0->qiskit-ibm-provider~=0.7.0->pytket-qiskit) (1.16.0)\n",
            "Collecting urllib3>=1.21.1 (from qiskit-ibm-provider~=0.7.0->pytket-qiskit)\n",
            "  Downloading urllib3-1.26.18-py2.py3-none-any.whl (143 kB)\n",
            "\u001b[2K     \u001b[90m━━━━━━━━━━━━━━━━━━━━━━━━━━━━━━━━━━━━━━━━\u001b[0m \u001b[32m143.8/143.8 kB\u001b[0m \u001b[31m14.8 MB/s\u001b[0m eta \u001b[36m0:00:00\u001b[0m\n",
            "\u001b[?25hCollecting PyJWT<3.0.0,>=2.8.0 (from ibm-cloud-sdk-core<4.0.0,>=3.17.0->ibm-platform-services>=0.22.6->qiskit-ibm-runtime~=0.12.0->pytket-qiskit)\n",
            "  Downloading PyJWT-2.8.0-py3-none-any.whl (22 kB)\n",
            "Requirement already satisfied: pbr!=2.1.0,>=2.0.0 in /usr/local/lib/python3.10/dist-packages (from stevedore>=3.0.0->qiskit-terra==0.25.3->qiskit~=0.44.0->pytket-qiskit) (5.11.1)\n",
            "Requirement already satisfied: pycparser in /usr/local/lib/python3.10/dist-packages (from cffi>=1.12->cryptography>=1.3->requests-ntlm>=1.1.0->qiskit-ibm-provider~=0.7.0->pytket-qiskit) (2.21)\n",
            "Building wheels for collected packages: ibm-platform-services, ibm-cloud-sdk-core\n",
            "  Building wheel for ibm-platform-services (pyproject.toml) ... \u001b[?25l\u001b[?25hdone\n",
            "  Created wheel for ibm-platform-services: filename=ibm_platform_services-0.46.0-py3-none-any.whl size=314677 sha256=bfd633e99de60b4059eb0200d1b772e04be8887388859dfda3a02731438fc37f\n",
            "  Stored in directory: /root/.cache/pip/wheels/9b/0b/f6/0ecc12d6c8d51807677c12d209f2affe1445b0b383f827ac19\n",
            "  Building wheel for ibm-cloud-sdk-core (pyproject.toml) ... \u001b[?25l\u001b[?25hdone\n",
            "  Created wheel for ibm-cloud-sdk-core: filename=ibm_cloud_sdk_core-3.17.2-py3-none-any.whl size=87033 sha256=5cb65a087b35b5f83f0355844ff36b2ae0195778c16558b927dd5901aed2c048\n",
            "  Stored in directory: /root/.cache/pip/wheels/23/ca/31/59271a350ef0a68402e24bc7f242433147be767d57a87a6a4d\n",
            "Successfully built ibm-platform-services ibm-cloud-sdk-core\n",
            "Installing collected packages: websockets, urllib3, PyJWT, qiskit-terra, qiskit-aer, qiskit, pyspnego, ibm-cloud-sdk-core, requests-ntlm, ibm-platform-services, qiskit-ibm-provider, qiskit-ibm-runtime, pytket-qiskit\n",
            "  Attempting uninstall: urllib3\n",
            "    Found existing installation: urllib3 2.0.7\n",
            "    Uninstalling urllib3-2.0.7:\n",
            "      Successfully uninstalled urllib3-2.0.7\n",
            "  Attempting uninstall: PyJWT\n",
            "    Found existing installation: PyJWT 2.3.0\n",
            "    Uninstalling PyJWT-2.3.0:\n",
            "      Successfully uninstalled PyJWT-2.3.0\n",
            "  Attempting uninstall: qiskit-terra\n",
            "    Found existing installation: qiskit-terra 0.45.0\n",
            "    Uninstalling qiskit-terra-0.45.0:\n",
            "      Successfully uninstalled qiskit-terra-0.45.0\n",
            "  Attempting uninstall: qiskit\n",
            "    Found existing installation: qiskit 0.45.0\n",
            "    Uninstalling qiskit-0.45.0:\n",
            "      Successfully uninstalled qiskit-0.45.0\n",
            "Successfully installed PyJWT-2.8.0 ibm-cloud-sdk-core-3.17.2 ibm-platform-services-0.46.0 pyspnego-0.10.2 pytket-qiskit-0.45.0 qiskit-0.44.3 qiskit-aer-0.12.2 qiskit-ibm-provider-0.7.2 qiskit-ibm-runtime-0.12.2 qiskit-terra-0.25.3 requests-ntlm-1.2.0 urllib3-1.26.18 websockets-12.0\n"
          ]
        }
      ],
      "source": [
        "!pip install pytket\n",
        "\n",
        "!pip install qiskit\n",
        "\n",
        "!pip install pytket-qiskit"
      ]
    },
    {
      "cell_type": "code",
      "source": [
        "import numpy as np\n",
        "from qiskit import QuantumCircuit\n",
        "from qiskit import Aer\n",
        "from qiskit import execute\n",
        "\n",
        "from tqdm import tqdm\n",
        "from typing import Optional, Union\n",
        "import matplotlib.pyplot as plt\n",
        "import numpy as np\n",
        "from qiskit.quantum_info.random import random_unitary\n",
        "from qiskit.circuit import QuantumCircuit\n",
        "from qiskit.circuit.library.generalized_gates.permutation import Permutation"
      ],
      "metadata": {
        "id": "D5Ndt_PnlR8-"
      },
      "execution_count": null,
      "outputs": []
    },
    {
      "cell_type": "code",
      "source": [
        "def create_states_new(num_qubit):\n",
        "    \"\"\"Create states for the evolution.\"\"\"\n",
        "    out = np.empty(2**num_qubit,dtype='complex')\n",
        "    for i in range(2**num_qubit):\n",
        "        out[i] = np.array(np.random.uniform(-1, 1, 1) + 1.j * np.random.uniform(-1, 1, 1))\n",
        "\n",
        "    out = out/np.sqrt(np.sum(np.abs(out)**2))\n",
        "    return out"
      ],
      "metadata": {
        "id": "IvEAZY-IlZMN"
      },
      "execution_count": null,
      "outputs": []
    },
    {
      "cell_type": "code",
      "source": [
        "class QuantumVolume(QuantumCircuit):\n",
        "    \"\"\"A quantum volume model circuit.\n",
        "\n",
        "    The model circuits are random instances of circuits used to measure\n",
        "    the Quantum Volume metric, as introduced in [1].\n",
        "    \"\"\"\n",
        "\n",
        "    def __init__(\n",
        "        self,\n",
        "        num_qubits: int,\n",
        "        depth: Optional[int] = None,\n",
        "        seed: Optional[Union[int, np.random.Generator]] = None,\n",
        "        classical_permutation: bool = True,\n",
        "    ) -> None:\n",
        "        \"\"\"Create quantum volume model circuit of size num_qubits x depth\n",
        "        \"\"\"\n",
        "        # Initialize RNG\n",
        "        if seed is None:\n",
        "            rng_set = np.random.default_rng()\n",
        "            seed = rng_set.integers(low=1, high=1000)\n",
        "        if isinstance(seed, np.random.Generator):\n",
        "            rng = seed\n",
        "        else:\n",
        "            rng = np.random.default_rng(seed)\n",
        "\n",
        "        # Parameters\n",
        "        depth = depth or num_qubits  # how many layers of SU(4)\n",
        "        width = int(np.floor(num_qubits / 2))  # how many SU(4)s fit in each layer\n",
        "        name = \"quantum_volume_\" + str([num_qubits, depth, seed]).replace(\" \", \"\")\n",
        "\n",
        "        # Generator random unitary seeds in advance.\n",
        "        unitary_seeds = rng.integers(low=1, high=1000, size=[depth, width])\n",
        "        indices_of_gates = np.empty((depth,width,2))\n",
        "        self.indices_of_gates = indices_of_gates\n",
        "        # For each layer, generate a permutation of qubits\n",
        "        # Then generate and apply a Haar-random SU(4) to each pair\n",
        "        circuit = QuantumCircuit(num_qubits, name=name)\n",
        "        self.circuit = circuit\n",
        "\n",
        "        #circuit.initialize(create_states_new(num_qubits),circuit.qubits)\n",
        "        circuit.initialize('0'*num_qubits)\n",
        "        perm_0 = list(range(num_qubits))\n",
        "        for d in range(depth):\n",
        "            perm = rng.permutation(perm_0)\n",
        "            if not classical_permutation:\n",
        "                layer_perm = Permutation(num_qubits, perm)\n",
        "                circuit.compose(layer_perm, inplace=True)\n",
        "            for w in range(width):\n",
        "                seed_u = unitary_seeds[d][w]\n",
        "                su4 = random_unitary(4, seed=seed_u).to_instruction()\n",
        "                su4.label = \"su4_\" + str(seed_u)\n",
        "                if classical_permutation:\n",
        "                    physical_qubits = int(perm[2 * w]), int(perm[2 * w + 1])\n",
        "                    indices_of_gates[d][w] = physical_qubits\n",
        "                    circuit.compose(su4, [physical_qubits[0], physical_qubits[1]], inplace=True)\n",
        "                else:\n",
        "                    circuit.compose(su4, [2 * w, 2 * w + 1], inplace=True)\n",
        "\n",
        "        super().__init__(*circuit.qregs, name=circuit.name)\n",
        "        self.compose(circuit.to_instruction(), qubits=self.qubits, inplace=True)"
      ],
      "metadata": {
        "id": "R6Y5P1REleTd"
      },
      "execution_count": null,
      "outputs": []
    },
    {
      "cell_type": "code",
      "source": [
        "num_qubits = 4\n",
        "width = int(np.floor(num_qubits / 2))\n",
        "depth = 4\n",
        "num_initial_states = 2**num_qubits\n",
        "num_circuits = 1000\n",
        "all_probs = np.empty((num_circuits,2**num_qubits))\n",
        "\n",
        "QV = QuantumVolume(num_qubits, depth=depth)\n",
        "backend = Aer.get_backend('statevector_simulator')\n",
        "result = execute(QV.circuit, backend, shots=1000).result()\n",
        "statevector = result.get_statevector(QV.circuit)\n",
        "print(QV.indices_of_gates)\n",
        "all_gates = QV.indices_of_gates\n",
        "swaps = 0\n",
        "for hey in np.reshape(all_gates,(depth*width,2)):\n",
        "    swaps += 2*(np.abs(hey[0]-hey[1]) - 1)\n",
        "\n",
        "QV.circuit.draw()"
      ],
      "metadata": {
        "colab": {
          "base_uri": "https://localhost:8080/",
          "height": 485
        },
        "id": "tPzMMywFljUD",
        "outputId": "f1e8ba39-83a6-400d-af73-392eb4d57f54"
      },
      "execution_count": null,
      "outputs": [
        {
          "output_type": "stream",
          "name": "stdout",
          "text": [
            "[[[1. 0.]\n",
            "  [2. 3.]]\n",
            "\n",
            " [[1. 2.]\n",
            "  [3. 0.]]\n",
            "\n",
            " [[1. 3.]\n",
            "  [2. 0.]]\n",
            "\n",
            " [[1. 2.]\n",
            "  [0. 3.]]]\n"
          ]
        },
        {
          "output_type": "execute_result",
          "data": {
            "text/plain": [
              "     ┌──────────────────────┐┌──────────┐            ┌──────────┐            »\n",
              "q_0: ┤0                     ├┤1         ├────────────┤1         ├────────────»\n",
              "     │                      ││  su4_619 │┌──────────┐│          │┌──────────┐»\n",
              "q_1: ┤1                     ├┤0         ├┤0         ├┤          ├┤0         ├»\n",
              "     │  Initialize(0,0,0,0) │├──────────┤│  su4_331 ││  su4_998 ││          │»\n",
              "q_2: ┤2                     ├┤0         ├┤1         ├┤          ├┤  su4_448 ├»\n",
              "     │                      ││  su4_379 │└──────────┘│          ││          │»\n",
              "q_3: ┤3                     ├┤1         ├────────────┤0         ├┤1         ├»\n",
              "     └──────────────────────┘└──────────┘            └──────────┘└──────────┘»\n",
              "«     ┌──────────┐            ┌──────────┐\n",
              "«q_0: ┤1         ├────────────┤0         ├\n",
              "«     │          │┌──────────┐│          │\n",
              "«q_1: ┤  su4_970 ├┤0         ├┤          ├\n",
              "«     │          ││  su4_399 ││  su4_621 │\n",
              "«q_2: ┤0         ├┤1         ├┤          ├\n",
              "«     └──────────┘└──────────┘│          │\n",
              "«q_3: ────────────────────────┤1         ├\n",
              "«                             └──────────┘"
            ],
            "text/html": [
              "<pre style=\"word-wrap: normal;white-space: pre;background: #fff0;line-height: 1.1;font-family: &quot;Courier New&quot;,Courier,monospace\">     ┌──────────────────────┐┌──────────┐            ┌──────────┐            »\n",
              "q_0: ┤0                     ├┤1         ├────────────┤1         ├────────────»\n",
              "     │                      ││  su4_619 │┌──────────┐│          │┌──────────┐»\n",
              "q_1: ┤1                     ├┤0         ├┤0         ├┤          ├┤0         ├»\n",
              "     │  Initialize(0,0,0,0) │├──────────┤│  su4_331 ││  su4_998 ││          │»\n",
              "q_2: ┤2                     ├┤0         ├┤1         ├┤          ├┤  su4_448 ├»\n",
              "     │                      ││  su4_379 │└──────────┘│          ││          │»\n",
              "q_3: ┤3                     ├┤1         ├────────────┤0         ├┤1         ├»\n",
              "     └──────────────────────┘└──────────┘            └──────────┘└──────────┘»\n",
              "«     ┌──────────┐            ┌──────────┐\n",
              "«q_0: ┤1         ├────────────┤0         ├\n",
              "«     │          │┌──────────┐│          │\n",
              "«q_1: ┤  su4_970 ├┤0         ├┤          ├\n",
              "«     │          ││  su4_399 ││  su4_621 │\n",
              "«q_2: ┤0         ├┤1         ├┤          ├\n",
              "«     └──────────┘└──────────┘│          │\n",
              "«q_3: ────────────────────────┤1         ├\n",
              "«                             └──────────┘</pre>"
            ]
          },
          "metadata": {},
          "execution_count": 5
        }
      ]
    },
    {
      "cell_type": "code",
      "source": [
        "num_qubits = 5\n",
        "width = int(np.floor(num_qubits / 2))\n",
        "depth = 5\n",
        "num_initial_states = 2**num_qubits\n",
        "num_circuits = 5000\n",
        "all_probs = np.empty((num_circuits,2**num_qubits))\n",
        "all_swaps = np.empty(num_circuits)\n",
        "\n",
        "for i in tqdm(range(num_circuits)):\n",
        "    QV = QuantumVolume(num_qubits, depth=depth)\n",
        "    backend = Aer.get_backend('statevector_simulator')\n",
        "    result = execute(QV.circuit, backend, shots=1000).result()\n",
        "    all_gates = QV.indices_of_gates\n",
        "    swaps = 0\n",
        "    for hey in np.reshape(all_gates,(depth*width,2)):\n",
        "        swaps += 2*(np.abs(hey[0]-hey[1]) - 1)\n",
        "    all_swaps[i] = swaps\n",
        "    statevector = result.get_statevector(QV.circuit)\n",
        "    #print(np.abs(np.array(statevector))**2)\n",
        "    prob = np.abs(np.array(statevector))**2\n",
        "    all_probs[i] = prob\n",
        "\n",
        "probs = all_probs.mean(axis=0)\n",
        "print(all_probs.flatten(),all_probs.flatten().shape)"
      ],
      "metadata": {
        "colab": {
          "base_uri": "https://localhost:8080/"
        },
        "id": "44gqO03Glo1J",
        "outputId": "5fe3a7b6-646f-4a31-f962-6f16b321b97d"
      },
      "execution_count": null,
      "outputs": [
        {
          "output_type": "stream",
          "name": "stderr",
          "text": [
            "100%|██████████| 5000/5000 [05:09<00:00, 16.15it/s]"
          ]
        },
        {
          "output_type": "stream",
          "name": "stdout",
          "text": [
            "[1.12843189e-02 5.18980744e-02 1.42012769e-02 ... 5.21300797e-03\n",
            " 5.23739534e-04 9.12382733e-05] (160000,)\n"
          ]
        },
        {
          "output_type": "stream",
          "name": "stderr",
          "text": [
            "\n"
          ]
        }
      ]
    },
    {
      "cell_type": "code",
      "source": [
        "xplot = np.arange(0,1,0.05)\n",
        "hist,bin_edges = np.histogram(all_probs.flatten(), bins = xplot)\n",
        "bin_centers = np.array((bin_edges[:-1] + bin_edges[1:])/2)\n",
        "plt.bar(bin_centers, hist/num_circuits, width = 0.04, color = 'g', alpha = 0.5, label='probs')\n",
        "Haar_measure = (2**num_qubits -1)*(1-bin_centers)**(2**num_qubits -2)\n",
        "pt_measure = 2**num_qubits*np.exp(-bin_centers*2**num_qubits)\n",
        "plt.plot(bin_centers, Haar_measure, label='haar')\n",
        "plt.plot(bin_centers,pt_measure, label='pt')\n",
        "plt.yscale('log')\n",
        "plt.ylim(1e-4, 5e1)\n",
        "plt.xlim(None,1)\n",
        "plt.title(f'Haar random states probability distribution \\n (N = {num_qubits}, depth = {depth}, {num_circuits} circuits)')\n",
        "plt.legend()"
      ],
      "metadata": {
        "colab": {
          "base_uri": "https://localhost:8080/",
          "height": 490
        },
        "id": "4wn-LV0KlusW",
        "outputId": "eb30d2a6-c18c-4b27-9aee-f22e340da74a"
      },
      "execution_count": null,
      "outputs": [
        {
          "output_type": "execute_result",
          "data": {
            "text/plain": [
              "<matplotlib.legend.Legend at 0x7aa86e6e66e0>"
            ]
          },
          "metadata": {},
          "execution_count": 19
        },
        {
          "output_type": "display_data",
          "data": {
            "text/plain": [
              "<Figure size 640x480 with 1 Axes>"
            ],
            "image/png": "[encoded data removed]"
          },
          "metadata": {}
        }
      ]
    },
    {
      "cell_type": "code",
      "source": [],
      "metadata": {
        "id": "3irtfBAvlz0E"
      },
      "execution_count": null,
      "outputs": []
    }
  ]
}