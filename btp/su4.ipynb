{
 "cells": [
  {
   "cell_type": "code",
   "execution_count": 14,
   "metadata": {},
   "outputs": [],
   "source": [
    "import numpy as np\n",
    "from qiskit import QuantumCircuit\n",
    "from qiskit import Aer\n",
    "from qiskit import execute\n",
    "\n",
    "\n",
    "from typing import Optional, Union\n",
    "import matplotlib.pyplot as plt\n",
    "import numpy as np\n",
    "from qiskit.quantum_info.random import random_unitary\n",
    "from qiskit.circuit import QuantumCircuit\n",
    "from qiskit.circuit.library.generalized_gates.permutation import Permutation"
   ]
  },
  {
   "cell_type": "code",
   "execution_count": 6,
   "metadata": {},
   "outputs": [
    {
     "name": "stdout",
     "output_type": "stream",
     "text": [
      "[[[1.01855798e-312 1.08221785e-312]\n",
      "  [1.01855798e-312 9.54898106e-313]\n",
      "  [1.18831764e-312 1.01855798e-312]]\n",
      "\n",
      " [[1.23075756e-312 1.08221785e-312]\n",
      "  [1.08221785e-312 9.76118064e-313]\n",
      "  [1.12465777e-312 1.90979621e-312]]]\n"
     ]
    }
   ],
   "source": [
    "print(np.empty((2,3,2)))"
   ]
  },
  {
   "cell_type": "code",
   "execution_count": 7,
   "metadata": {},
   "outputs": [],
   "source": [
    "def create_states_new(num_qubit):\n",
    "    \"\"\"Create states for the evolution.\"\"\"\n",
    "    out = np.empty(2**num_qubit,dtype='complex')\n",
    "    for i in range(2**num_qubit):\n",
    "        out[i] = np.array(np.random.uniform(-1, 1, 1) + 1.j * np.random.uniform(-1, 1, 1))\n",
    "    \n",
    "    out = out/np.sqrt(np.sum(np.abs(out)**2))\n",
    "    return out"
   ]
  },
  {
   "cell_type": "code",
   "execution_count": 8,
   "metadata": {},
   "outputs": [],
   "source": [
    "# This code is part of Qiskit.\n",
    "#\n",
    "# (C) Copyright IBM 2017, 2020.\n",
    "#\n",
    "# This code is licensed under the Apache License, Version 2.0. You may\n",
    "# obtain a copy of this license in the LICENSE.txt file in the root directory\n",
    "# of this source tree or at http://www.apache.org/licenses/LICENSE-2.0.\n",
    "#\n",
    "# Any modifications or derivative works of this code must retain this\n",
    "# copyright notice, and modified files need to carry a notice indicating\n",
    "# that they have been altered from the originals.\n",
    "\n",
    "\"\"\"Quantum Volume model circuit.\"\"\"\n",
    "\n",
    "\n",
    "\n",
    "class QuantumVolume(QuantumCircuit):\n",
    "    \"\"\"A quantum volume model circuit.\n",
    "\n",
    "    The model circuits are random instances of circuits used to measure\n",
    "    the Quantum Volume metric, as introduced in [1].\n",
    "\n",
    "    The model circuits consist of layers of Haar random\n",
    "    elements of SU(4) applied between corresponding pairs\n",
    "    of qubits in a random bipartition.\n",
    "\n",
    "    **Reference Circuit:**\n",
    "\n",
    "    .. plot::\n",
    "\n",
    "       from qiskit.circuit.library import QuantumVolume\n",
    "       circuit = QuantumVolume(5, 6, seed=10)\n",
    "       circuit.draw('mpl')\n",
    "\n",
    "    **Expanded Circuit:**\n",
    "\n",
    "    .. plot::\n",
    "\n",
    "       from qiskit.circuit.library import QuantumVolume\n",
    "       from qiskit.tools.jupyter.library import _generate_circuit_library_visualization\n",
    "       circuit = QuantumVolume(5, 6, seed=10, classical_permutation=False)\n",
    "       _generate_circuit_library_visualization(circuit.decompose())\n",
    "\n",
    "    **References:**\n",
    "\n",
    "    [1] A. Cross et al. Validating quantum computers using\n",
    "    randomized model circuits, Phys. Rev. A 100, 032328 (2019).\n",
    "    [`arXiv:1811.12926 <https://arxiv.org/abs/1811.12926>`_]\n",
    "    \"\"\"\n",
    "\n",
    "    def __init__(\n",
    "        self,\n",
    "        num_qubits: int,\n",
    "        depth: Optional[int] = None,\n",
    "        seed: Optional[Union[int, np.random.Generator]] = None,\n",
    "        classical_permutation: bool = True,\n",
    "    ) -> None:\n",
    "        \"\"\"Create quantum volume model circuit of size num_qubits x depth.\n",
    "\n",
    "        Args:\n",
    "            num_qubits: number of active qubits in model circuit.\n",
    "            depth: layers of SU(4) operations in model circuit.\n",
    "            seed: Random number generator or generator seed.\n",
    "            classical_permutation: use classical permutations at every layer,\n",
    "                rather than quantum.\n",
    "        \"\"\"\n",
    "        # Initialize RNG\n",
    "        if seed is None:\n",
    "            rng_set = np.random.default_rng()\n",
    "            seed = rng_set.integers(low=1, high=1000)\n",
    "        if isinstance(seed, np.random.Generator):\n",
    "            rng = seed\n",
    "        else:\n",
    "            rng = np.random.default_rng(seed)\n",
    "\n",
    "        # Parameters\n",
    "        depth = depth or num_qubits  # how many layers of SU(4)\n",
    "        width = int(np.floor(num_qubits / 2))  # how many SU(4)s fit in each layer\n",
    "        name = \"quantum_volume_\" + str([num_qubits, depth, seed]).replace(\" \", \"\")\n",
    "\n",
    "        # Generator random unitary seeds in advance.\n",
    "        # Note that this means we are constructing multiple new generator\n",
    "        # objects from low-entropy integer seeds rather than pass the shared\n",
    "        # generator object to the random_unitary function. This is done so\n",
    "        # that we can use the integer seed as a label for the generated gates.\n",
    "        unitary_seeds = rng.integers(low=1, high=1000, size=[depth, width])\n",
    "        indices_of_gates = np.empty((depth,width,2))\n",
    "        self.indices_of_gates = indices_of_gates\n",
    "        # For each layer, generate a permutation of qubits\n",
    "        # Then generate and apply a Haar-random SU(4) to each pair\n",
    "        circuit = QuantumCircuit(num_qubits, name=name)\n",
    "        self.circuit = circuit\n",
    "        \n",
    "        #circuit.initialize(create_states_new(num_qubits),circuit.qubits)\n",
    "        circuit.initialize('0'*num_qubits)\n",
    "        perm_0 = list(range(num_qubits))\n",
    "        for d in range(depth):\n",
    "            perm = rng.permutation(perm_0)\n",
    "            if not classical_permutation:\n",
    "                layer_perm = Permutation(num_qubits, perm)\n",
    "                circuit.compose(layer_perm, inplace=True)\n",
    "            for w in range(width):\n",
    "                seed_u = unitary_seeds[d][w]\n",
    "                su4 = random_unitary(4, seed=seed_u).to_instruction()\n",
    "                su4.label = \"su4_\" + str(seed_u)\n",
    "                if classical_permutation:\n",
    "                    physical_qubits = int(perm[2 * w]), int(perm[2 * w + 1])\n",
    "                    indices_of_gates[d][w] = physical_qubits\n",
    "                    circuit.compose(su4, [physical_qubits[0], physical_qubits[1]], inplace=True)\n",
    "                else:\n",
    "                    circuit.compose(su4, [2 * w, 2 * w + 1], inplace=True)\n",
    "\n",
    "        super().__init__(*circuit.qregs, name=circuit.name)\n",
    "        self.compose(circuit.to_instruction(), qubits=self.qubits, inplace=True)"
   ]
  },
  {
   "cell_type": "code",
   "execution_count": 9,
   "metadata": {},
   "outputs": [
    {
     "name": "stdout",
     "output_type": "stream",
     "text": [
      "[[[1. 0.]\n",
      "  [2. 3.]]]\n"
     ]
    },
    {
     "data": {
      "text/html": [
       "<pre style=\"word-wrap: normal;white-space: pre;background: #fff0;line-height: 1.1;font-family: &quot;Courier New&quot;,Courier,monospace\">     ┌──────────────────────┐┌──────────┐\n",
       "q_0: ┤0                     ├┤1         ├\n",
       "     │                      ││  su4_888 │\n",
       "q_1: ┤1                     ├┤0         ├\n",
       "     │  Initialize(0,0,0,0) │├──────────┤\n",
       "q_2: ┤2                     ├┤0         ├\n",
       "     │                      ││  su4_659 │\n",
       "q_3: ┤3                     ├┤1         ├\n",
       "     └──────────────────────┘└──────────┘</pre>"
      ],
      "text/plain": [
       "     ┌──────────────────────┐┌──────────┐\n",
       "q_0: ┤0                     ├┤1         ├\n",
       "     │                      ││  su4_888 │\n",
       "q_1: ┤1                     ├┤0         ├\n",
       "     │  Initialize(0,0,0,0) │├──────────┤\n",
       "q_2: ┤2                     ├┤0         ├\n",
       "     │                      ││  su4_659 │\n",
       "q_3: ┤3                     ├┤1         ├\n",
       "     └──────────────────────┘└──────────┘"
      ]
     },
     "execution_count": 9,
     "metadata": {},
     "output_type": "execute_result"
    }
   ],
   "source": [
    "depth = 1\n",
    "num_qubits = 4\n",
    "width = int(np.floor(num_qubits / 2))\n",
    "num_initial_states = 2**num_qubits\n",
    "num_circuits = 1000\n",
    "all_probs = np.empty((num_circuits,2**num_qubits))\n",
    "\n",
    "QV = QuantumVolume(num_qubits, depth=depth)\n",
    "backend = Aer.get_backend('statevector_simulator')\n",
    "result = execute(QV.circuit, backend, shots=1000).result()\n",
    "statevector = result.get_statevector(QV.circuit)\n",
    "print(QV.indices_of_gates)\n",
    "all_gates = QV.indices_of_gates\n",
    "swaps = 0\n",
    "for hey in np.reshape(all_gates,(depth*width,2)):\n",
    "    swaps += 2*(np.abs(hey[0]-hey[1]) - 1)\n",
    "\n",
    "QV.circuit.draw()"
   ]
  },
  {
   "cell_type": "code",
   "execution_count": 10,
   "metadata": {},
   "outputs": [
    {
     "name": "stdout",
     "output_type": "stream",
     "text": [
      "wtf [0.17553935 0.04050687 0.         ... 0.         0.         0.        ] (32000,)\n"
     ]
    }
   ],
   "source": [
    "depth = 1\n",
    "num_qubits = 5\n",
    "width = int(np.floor(num_qubits / 2))\n",
    "num_initial_states = 2**num_qubits\n",
    "num_circuits = 1000\n",
    "all_probs = np.empty((num_circuits,2**num_qubits))\n",
    "all_swaps = np.empty(num_circuits)\n",
    "\n",
    "for i in range(num_circuits):    \n",
    "    QV = QuantumVolume(num_qubits, depth=depth)\n",
    "    backend = Aer.get_backend('statevector_simulator')\n",
    "    result = execute(QV.circuit, backend, shots=1000).result()\n",
    "    all_gates = QV.indices_of_gates\n",
    "    swaps = 0\n",
    "    for hey in np.reshape(all_gates,(depth*width,2)):\n",
    "        swaps += 2*(np.abs(hey[0]-hey[1]) - 1)\n",
    "    all_swaps[i] = swaps\n",
    "    statevector = result.get_statevector(QV.circuit)\n",
    "    #print(np.abs(np.array(statevector))**2)\n",
    "    prob = np.abs(np.array(statevector))**2\n",
    "    all_probs[i] = prob\n",
    "\n",
    "probs = all_probs.mean(axis=0)\n",
    "print('wtf',all_probs.flatten(),all_probs.flatten().shape)"
   ]
  },
  {
   "cell_type": "code",
   "execution_count": 11,
   "metadata": {},
   "outputs": [
    {
     "data": {
      "text/plain": [
       "<matplotlib.legend.Legend at 0x2be97448410>"
      ]
     },
     "execution_count": 11,
     "metadata": {},
     "output_type": "execute_result"
    },
    {
     "data": {
      "image/png": "[encoded data removed]",
      "text/plain": [
       "<Figure size 640x480 with 1 Axes>"
      ]
     },
     "metadata": {},
     "output_type": "display_data"
    }
   ],
   "source": [
    "xplot = np.arange(0,1,0.05)\n",
    "hist,bin_edges = np.histogram(all_probs.flatten(), bins = xplot)\n",
    "bin_centers = np.array((bin_edges[:-1] + bin_edges[1:])/2)\n",
    "plt.bar(bin_centers, hist/num_circuits, width = 0.04, color = 'g', alpha = 0.5, label='probs')\n",
    "Haar_measure = (2**num_qubits -1)*(1-bin_centers)**(2**num_qubits -2)\n",
    "pt_measure = 2**num_qubits*np.exp(-bin_centers*2**num_qubits)\n",
    "plt.plot(bin_centers, Haar_measure, label='haar')\n",
    "plt.plot(bin_centers,pt_measure, label='pt')\n",
    "plt.yscale('log')\n",
    "plt.ylim(1e-4, 5e1)\n",
    "plt.xlim(None,1)\n",
    "plt.title(f'Haar random states probability distribution \\n ({num_qubits} qubits, {num_circuits} circuits)')\n",
    "plt.legend()"
   ]
  },
  {
   "attachments": {},
   "cell_type": "markdown",
   "metadata": {},
   "source": [
    "## KAK Decomposition"
   ]
  },
  {
   "cell_type": "code",
   "execution_count": 26,
   "metadata": {},
   "outputs": [
    {
     "ename": "ModuleNotFoundError",
     "evalue": "No module named 'qiskit.extensions.standard'",
     "output_type": "error",
     "traceback": [
      "\u001b[1;31m---------------------------------------------------------------------------\u001b[0m",
      "\u001b[1;31mModuleNotFoundError\u001b[0m                       Traceback (most recent call last)",
      "Cell \u001b[1;32mIn[26], line 3\u001b[0m\n\u001b[0;32m      1\u001b[0m \u001b[39mfrom\u001b[39;00m \u001b[39mqiskit\u001b[39;00m\u001b[39m.\u001b[39;00m\u001b[39mquantum_info\u001b[39;00m\u001b[39m.\u001b[39;00m\u001b[39msynthesis\u001b[39;00m \u001b[39mimport\u001b[39;00m TwoQubitBasisDecomposer\n\u001b[0;32m      2\u001b[0m \u001b[39mfrom\u001b[39;00m \u001b[39mqiskit\u001b[39;00m\u001b[39m.\u001b[39;00m\u001b[39mquantum_info\u001b[39;00m\u001b[39m.\u001b[39;00m\u001b[39moperators\u001b[39;00m \u001b[39mimport\u001b[39;00m Operator, Pauli\n\u001b[1;32m----> 3\u001b[0m \u001b[39mfrom\u001b[39;00m \u001b[39mqiskit\u001b[39;00m\u001b[39m.\u001b[39;00m\u001b[39mextensions\u001b[39;00m\u001b[39m.\u001b[39;00m\u001b[39mstandard\u001b[39;00m\u001b[39m.\u001b[39;00m\u001b[39mcx\u001b[39;00m \u001b[39mimport\u001b[39;00m CnotGate\n\u001b[0;32m      5\u001b[0m su4 \u001b[39m=\u001b[39m random_unitary(\u001b[39m4\u001b[39m)\n\u001b[0;32m      6\u001b[0m op_su4 \u001b[39m=\u001b[39m Operator(su4)\n",
      "\u001b[1;31mModuleNotFoundError\u001b[0m: No module named 'qiskit.extensions.standard'"
     ]
    }
   ],
   "source": [
    "from qiskit.quantum_info.synthesis import TwoQubitBasisDecomposer\n",
    "from qiskit.quantum_info.operators import Operator, Pauli\n",
    "from qiskit.extensions.standard.cx import CnotGate\n",
    "\n",
    "su4 = random_unitary(4)\n",
    "op_su4 = Operator(su4)\n",
    "q = QuantumRegister(2,'q')\n",
    "qc = QuantumCircuit(q)\n",
    "\n",
    "pauliXX = Pauli('XX')\n",
    "XX = Operator(pauliXX)\n",
    "decomposer = TwoQubitBasisDecomposer(CnotGate)\n",
    "\n",
    "gates = decomposer.decomp1(op_su4)\n",
    "\n",
    "print(gates)\n"
   ]
  },
  {
   "cell_type": "code",
   "execution_count": 27,
   "metadata": {},
   "outputs": [
    {
     "name": "stdout",
     "output_type": "stream",
     "text": [
      "global phase: 3.629\n",
      "     ┌───────────────────────────┐        ┌──────────────────────┐       »\n",
      "q_0: ┤ U3(1.2747,0.29858,-1.325) ├───■────┤ U3(0.55215,-π/2,π/2) ├────■──»\n",
      "     ├───────────────────────────┴┐┌─┴─┐┌─┴──────────────────────┴─┐┌─┴─┐»\n",
      "q_1: ┤ U3(1.4117,-0.10669,1.6681) ├┤ X ├┤ U3(2.5234,1.0414,2.6966) ├┤ X ├»\n",
      "     └────────────────────────────┘└───┘└──────────────────────────┘└───┘»\n",
      "«         ┌───────────────────┐         ┌───────────────────────────┐\n",
      "«q_0: ────┤ U3(0.46979,0,π/2) ├──────■──┤ U3(1.7197,-2.2511,2.1943) ├\n",
      "«     ┌───┴───────────────────┴───┐┌─┴─┐├───────────────────────────┤\n",
      "«q_1: ┤ U3(1.8545,-1.8806,3.0522) ├┤ X ├┤ U3(1.2218,-1.0459,2.9601) ├\n",
      "«     └───────────────────────────┘└───┘└───────────────────────────┘\n"
     ]
    }
   ],
   "source": [
    "from qiskit import QuantumCircuit, transpile\n",
    "from qiskit.visualization import plot_bloch_multivector\n",
    "from qiskit.providers.aer import AerSimulator\n",
    "\n",
    "from qiskit.quantum_info.random import random_unitary\n",
    "num_qubits = 2  # Adjust the number of qubits as needed\n",
    "unitary_matrix = random_unitary(4).data\n",
    "\n",
    "qc = QuantumCircuit(num_qubits)\n",
    "qc.unitary(unitary_matrix, range(num_qubits))\n",
    "\n",
    "basis_gates = ['u1', 'u2', 'u3', 'cx']  # Basis gates for decomposition\n",
    "decomposed_circuit = transpile(qc, basis_gates=basis_gates)\n",
    "print(decomposed_circuit)"
   ]
  },
  {
   "cell_type": "code",
   "execution_count": 30,
   "metadata": {},
   "outputs": [
    {
     "name": "stdout",
     "output_type": "stream",
     "text": [
      "global phase: 0.82985\n",
      "     ┌───────────────────────────┐       ┌──────────────────────┐      »\n",
      "q_0: ┤ U3(2.1107,-1.0131,3.0706) ├──■────┤ U3(0.70994,-π/2,π/2) ├───■──»\n",
      "     └┬─────────────────────────┬┘┌─┴─┐┌─┴──────────────────────┴┐┌─┴─┐»\n",
      "q_1: ─┤ U3(2.3,-2.0371,-2.3552) ├─┤ X ├┤ U3(2.2242,1.1933,2.905) ├┤ X ├»\n",
      "      └─────────────────────────┘ └───┘└─────────────────────────┘└───┘»\n",
      "«        ┌──────────────────────┐         ┌──────────────────────────┐ \n",
      "«q_0: ───┤ U3(0.014131,-π,-π/2) ├────■────┤ U3(1.7361,-0.49,-1.4256) ├─\n",
      "«     ┌──┴──────────────────────┴─┐┌─┴─┐┌─┴──────────────────────────┴┐\n",
      "«q_1: ┤ U3(1.8545,-1.8806,3.0522) ├┤ X ├┤ U3(0.47948,-0.23444,2.6907) ├\n",
      "«     └───────────────────────────┘└───┘└─────────────────────────────┘\n"
     ]
    },
    {
     "data": {
      "text/html": [
       "<pre style=\"word-wrap: normal;white-space: pre;background: #fff0;line-height: 1.1;font-family: &quot;Courier New&quot;,Courier,monospace\">global phase: 0.82985\n",
       "     ┌───────────────────────────┐       ┌──────────────────────┐      »\n",
       "q_0: ┤ U3(2.1107,-1.0131,3.0706) ├──■────┤ U3(0.70994,-π/2,π/2) ├───■──»\n",
       "     └┬─────────────────────────┬┘┌─┴─┐┌─┴──────────────────────┴┐┌─┴─┐»\n",
       "q_1: ─┤ U3(2.3,-2.0371,-2.3552) ├─┤ X ├┤ U3(2.2242,1.1933,2.905) ├┤ X ├»\n",
       "      └─────────────────────────┘ └───┘└─────────────────────────┘└───┘»\n",
       "«        ┌──────────────────────┐         ┌──────────────────────────┐ \n",
       "«q_0: ───┤ U3(0.014131,-π,-π/2) ├────■────┤ U3(1.7361,-0.49,-1.4256) ├─\n",
       "«     ┌──┴──────────────────────┴─┐┌─┴─┐┌─┴──────────────────────────┴┐\n",
       "«q_1: ┤ U3(1.8545,-1.8806,3.0522) ├┤ X ├┤ U3(0.47948,-0.23444,2.6907) ├\n",
       "«     └───────────────────────────┘└───┘└─────────────────────────────┘</pre>"
      ],
      "text/plain": [
       "global phase: 0.82985\n",
       "     ┌───────────────────────────┐       ┌──────────────────────┐      »\n",
       "q_0: ┤ U3(2.1107,-1.0131,3.0706) ├──■────┤ U3(0.70994,-π/2,π/2) ├───■──»\n",
       "     └┬─────────────────────────┬┘┌─┴─┐┌─┴──────────────────────┴┐┌─┴─┐»\n",
       "q_1: ─┤ U3(2.3,-2.0371,-2.3552) ├─┤ X ├┤ U3(2.2242,1.1933,2.905) ├┤ X ├»\n",
       "      └─────────────────────────┘ └───┘└─────────────────────────┘└───┘»\n",
       "«        ┌──────────────────────┐         ┌──────────────────────────┐ \n",
       "«q_0: ───┤ U3(0.014131,-π,-π/2) ├────■────┤ U3(1.7361,-0.49,-1.4256) ├─\n",
       "«     ┌──┴──────────────────────┴─┐┌─┴─┐┌─┴──────────────────────────┴┐\n",
       "«q_1: ┤ U3(1.8545,-1.8806,3.0522) ├┤ X ├┤ U3(0.47948,-0.23444,2.6907) ├\n",
       "«     └───────────────────────────┘└───┘└─────────────────────────────┘"
      ]
     },
     "execution_count": 30,
     "metadata": {},
     "output_type": "execute_result"
    }
   ],
   "source": [
    "from qiskit import QuantumCircuit, transpile\n",
    "from qiskit.visualization import plot_bloch_multivector\n",
    "from qiskit.providers.aer import AerSimulator\n",
    "\n",
    "from qiskit.quantum_info.random import random_unitary\n",
    "num_qubits = 2  # Adjust the number of qubits as needed\n",
    "\n",
    "#Define your SU(4) unitary matrix\n",
    "unitary_matrix = random_unitary(4).data\n",
    "\n",
    "# Create a quantum circuit with the unitary matrix\n",
    "qc = QuantumCircuit(num_qubits)\n",
    "qc.unitary(unitary_matrix, range(num_qubits))\n",
    "\n",
    "# Choose your target basis. In this case you want to decompose into CNOT gates and single qubit gates\n",
    "basis_gates = ['u1', 'u2', 'u3', 'cx']  # Basis gates for decomposition\n",
    "\n",
    "#Use qiskit's transpile function to decompose the circuit into the desired basis\n",
    "decomposed_circuit = transpile(qc, basis_gates=basis_gates)\n",
    "\n",
    "print(decomposed_circuit)\n",
    "\n",
    "# Visualize the decomposed circuit\n",
    "decomposed_circuit.draw()\n",
    "\n",
    "\n",
    "#You can simulate the decomposed circuit to verify its correctness\n",
    "# simulator = AerSimulator()\n",
    "# result = simulator.run(decomposed_circuit).result()\n",
    "# final_state = result.get_statevector()\n",
    "# plot_bloch_multivector(final_state)\n",
    "\n",
    "#This code will generate a random SU(4) unitary, decompose it into CNOT gates\n",
    "# and single-qubit gates, and allow you to visualize and verify the result. Make sure\n",
    "# to adjust the number of qubits and other parameters as needed for your specific case.\n"
   ]
  },
  {
   "cell_type": "code",
   "execution_count": null,
   "metadata": {},
   "outputs": [],
   "source": []
  }
 ],
 "metadata": {
  "kernelspec": {
   "display_name": "Python 3",
   "language": "python",
   "name": "python3"
  },
  "language_info": {
   "codemirror_mode": {
    "name": "ipython",
    "version": 3
   },
   "file_extension": ".py",
   "mimetype": "text/x-python",
   "name": "python",
   "nbconvert_exporter": "python",
   "pygments_lexer": "ipython3",
   "version": "3.11.2"
  },
  "orig_nbformat": 4
 },
 "nbformat": 4,
 "nbformat_minor": 2
}
